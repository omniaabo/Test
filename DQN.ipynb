{
  "nbformat": 4,
  "nbformat_minor": 0,
  "metadata": {
    "colab": {
      "name": "Untitled0.ipynb",
      "provenance": [],
      "collapsed_sections": [],
      "authorship_tag": "ABX9TyOpDc1+UU+flLAuUfckfwbw",
      "include_colab_link": true
    },
    "kernelspec": {
      "name": "python3",
      "display_name": "Python 3"
    },
    "language_info": {
      "name": "python"
    }
  },
  "cells": [
    {
      "cell_type": "markdown",
      "metadata": {
        "id": "view-in-github",
        "colab_type": "text"
      },
      "source": [
        "<a href=\"https://colab.research.google.com/github/omniaabo/Test/blob/main/DQN.ipynb\" target=\"_parent\"><img src=\"https://colab.research.google.com/assets/colab-badge.svg\" alt=\"Open In Colab\"/></a>"
      ]
    },
    {
      "cell_type": "code",
      "source": [
        "# -*- coding: utf-8 -*-\n",
        "\"\"\"\n",
        "Created on Mon May 30 20:05:56 2022\n",
        "\n",
        "@author: TOSHIBA\n",
        "\"\"\"\n",
        "#initialize Switch_Controller_Mapping\n",
        "import pandas as pd\n",
        "import tensorflow as tf\n",
        "import tensorflow.keras as keras\n",
        "from keras.utils.np_utils import to_categorical\n",
        "from tensorflow.python.keras.layers import Dense\n",
        "\n",
        "#import tensorflow.keras.optimizers ,import Adam\n",
        "import numpy as np\n",
        "\n",
        "\n",
        "print(tf.config.list_physical_devices('GPU'))\n",
        "Switch_Controller = [(9,12),(6,13),(5,14)]\n",
        "pathes={\"ATLAM5\":[0,1,5,14],\"ATLAng\":[1,5,14],\"CHINng\":[2,5,14],\"DNVRng\":[3,6,13],\"HSTNng\":[4,6,13],\"IPLSng\":[5,14],\n",
        "         \"KSCYng\":[6,13],\"LOSAng\":[7,9,12],\"NYCMng\":[8,2,5,14],\"SNVAng\":[9,12],\"STTLng\":[10,9,12],\"WASHng\":[11,8,2,5,14]}\n",
        "Mapping = pd.DataFrame.from_dict(pathes, orient='index').transpose()\n",
        "\n",
        "class DQN(keras.Model):\n",
        "    '''\n",
        "    def __init__(self,sequences,discount_rate,Epsilon_start,Epsilon_end,Epsilon_decay):\n",
        "        self.sequences = sequences\n",
        "        self.discount_rate = discount_rate\n",
        "        self.Epsilon_start = Epsilon_start\n",
        "        self.Epsilon_end = Epsilon_end\n",
        "        self.Epsilon_decay = Epsilon_decay\n",
        "        \n",
        "    '''\n",
        "    def __init__(self,n_actions,fc1_dims,fc2_dims):\n",
        "        super(DQN, self).__init__()\n",
        "        self.dense1 = keras.layers.Dense(fc1_dims,activation='relu')\n",
        "        self.dense2 = keras.layers.Dense(fc2_dims,activation='relu')\n",
        "        self.V = keras.layers.Dense(1,activation=None)\n",
        "        self.A = keras.layers.Dense(n_actions,activation=None)\n",
        "        \n",
        "    def call(self,state):\n",
        "        x = self.dense1(state)\n",
        "        x = self.dense2(x)\n",
        "        A = self.A(x)\n",
        "        return A\n",
        "    \n",
        "class ReplayBuffer():\n",
        "    def __init__(self,max_size,input_shape):\n",
        "        self.mem_size = max_size\n",
        "        self.mem_cntr = 0\n",
        "        self.state_memory = np.zeros((self.mem_size,*input_shape),dtype=np.float32)\n",
        "        self.new_state_memory = np.zeros((self.mem_size,*input_shape),dtype=np.float32)\n",
        "        self.action_memory = np.zeros(self.mem_size,dtype=np.int32)\n",
        "        self.reward_memory = np.zeros(self.mem_size,dtype=np.float32)\n",
        "        self.terminal_memory = np.zeros(self.mem_size,dtype=np.bool)\n",
        "        \n",
        "        \n",
        "    def store_transition(self,state,action,reward,state_,done):\n",
        "        index = self.mem_cntr % self.mem_size\n",
        "        self.state_memory[index] = state\n",
        "        self.new_state_memory[index] = state_\n",
        "        self.action_memory[index] = action\n",
        "        self.reward_memory[index] = reward\n",
        "        self.terminal_memory[index] = done\n",
        "        self.mem_cntr +=1\n",
        "        \n",
        "    def sample_buffer(self,batch_size):\n",
        "        max_mem = min(self.mem_cntr,self.mem_size)\n",
        "        batch = np.random.choice(max_mem,batch_size,replace=False)\n",
        "        states = self.state_memory[batch]\n",
        "        new_states = self.new_state_memory \n",
        "        actions = self.action_memory[batch]\n",
        "        reward = self.reward_memory[batch]\n",
        "        dones = self.terminal_memory[batch]\n",
        "        return states,actions,reward,new_states,dones\n",
        "\n",
        "class Agent():\n",
        "  def __init__(self):\n",
        "    \n",
        "\n"
      ],
      "metadata": {
        "colab": {
          "base_uri": "https://localhost:8080/"
        },
        "id": "Eb70pFnAULDV",
        "outputId": "b14ad592-e8cc-42b3-efd9-30fd5341504d"
      },
      "execution_count": 9,
      "outputs": [
        {
          "output_type": "stream",
          "name": "stdout",
          "text": [
            "[]\n"
          ]
        }
      ]
    }
  ]
}